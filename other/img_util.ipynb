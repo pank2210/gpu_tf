{
 "cells": [
  {
   "cell_type": "code",
   "execution_count": 73,
   "metadata": {},
   "outputs": [],
   "source": [
    "import time\n",
    "import re\n",
    "import shutil\n",
    "import os\n",
    "import sys\n",
    "\n",
    "import threading\n",
    "\n",
    "from skimage import io\n",
    "import numpy as np\n",
    "import matplotlib.pyplot as plt\n"
   ]
  },
  {
   "cell_type": "code",
   "execution_count": 6,
   "metadata": {},
   "outputs": [],
   "source": [
    "#display patches\n",
    "def show_image_grid(images: list, img_names: list,img_per_row: int = 2) -> None:\n",
    "    n: int = len(images)\n",
    "    n_cols = int(n/img_per_row)\n",
    "    print_size = int(images[0].shape[0]/10)\n",
    "    f = plt.figure(figsize=(print_size,print_size))\n",
    "    print(\"#images[%d] n_rows[%d] n_cols[%d] print_size[%d]\" % (n,img_per_row,n_cols,print_size))\n",
    "    for i in range(n):\n",
    "        #for j in range(img_per_row):\n",
    "        #print(i,img_per_row,n_cols)\n",
    "        # Debug, plot figure\n",
    "        f.add_subplot( n_cols, img_per_row, i+1)\n",
    "        plt.title(img_names[i])\n",
    "        plt.axis('off')\n",
    "        #plt.imshow(images[(i*img_per_row+j)])\n",
    "        plt.imshow(images[i])\n",
    "    plt.show(block=True)\n"
   ]
  },
  {
   "cell_type": "code",
   "execution_count": 55,
   "metadata": {},
   "outputs": [
    {
     "name": "stdout",
     "output_type": "stream",
     "text": [
      "['IDRiD_50_2659']\n"
     ]
    }
   ],
   "source": [
    "def get_img_files_from_dir(ddir: str,file_name_pattern: str = None):\n",
    "    #print(\"dir: {} pattern: {}\".format(ddir,file_name_pattern))\n",
    "    files = os.listdir(ddir)\n",
    "    m_files = []\n",
    "    i=0\n",
    "    for filename in files:\n",
    "        if file_name_pattern:\n",
    "            m = re.findall(file_name_pattern,filename)\n",
    "            #print(m)\n",
    "            if m:\n",
    "                m_files.append(m[0])\n",
    "            else:\n",
    "                continue\n",
    "        else:\n",
    "            m_files.append(filename)\n",
    "        #print(filename)\n",
    "        i += 1\n",
    "        \n",
    "    return m_files\n",
    "print(get_img_files_from_dir('/disk1/data1/data/px_he1/img1/',file_name_pattern='^(.*?)\\.jpg$'))"
   ]
  },
  {
   "cell_type": "code",
   "execution_count": 45,
   "metadata": {},
   "outputs": [],
   "source": [
    "def show_images_from_dir(odir: str, graph_flag: bool = False, ddir: str = '/disk1/data1/data/px_he1/img1/'):\n",
    "    update_flag = False\n",
    "    files = get_img_files_from_dir(odir,'^(.*?)\\.jpg$)')\n",
    "    m_files = []\n",
    "    i=0\n",
    "    for filename in files:\n",
    "        #if i > 3:\n",
    "        #    break\n",
    "        #print(fnmatch.fnmatch(filename, file_pattern))\n",
    "        #print(filename)\n",
    "        '''\n",
    "        '_groundtruth_(1)_img1_IDRiD_50_2659.jpg_e336bef0-f6c1-4342-8b5e-b45116c22743.jpg'\n",
    "         img1_original_IDRiD_50_2659.jpg_031288ab-4d12-4a32-8c64-b36d0d0a2748.jpg\n",
    "\n",
    "        '''\n",
    "        o_img_fl = filename        \n",
    "        if update_flag:\n",
    "            if fnmatch.fnmatch(filename, o_file_pattern):\n",
    "                m = re.findall('^.*?_(IDRiD_.*?)\\.jpg_(.*?\\.jpg)$',filename)            \n",
    "                if m:\n",
    "                    #print(m[0][0],m[0][1])\n",
    "                    t_f_name = m[0][0] + '_' + m[0][1]\n",
    "                    shutil.move(odir + o_img_fl,da_image_dir + t_f_name)\n",
    "                #o_img = plt.imread( odir + o_img_fl)\n",
    "            if fnmatch.fnmatch(filename, gt_file_pattern):\n",
    "                m = re.findall('^.*?_(IDRiD_.*?)\\.jpg_(.*?\\.jpg)$',filename)            \n",
    "                if m:\n",
    "                    #print(m[0][0],m[0][1])\n",
    "                    t_f_name = m[0][0] + '_' + m[0][1]\n",
    "                    shutil.move(odir + o_img_fl,da_gt_dir + t_f_name)\n",
    "        else:\n",
    "            #print(\"o_file_pattern matched...shape is \",o_img.shape)\n",
    "            o_img = io.imread( odir + o_img_fl, as_gray=True)\n",
    "            print(\"#####\",o_img_fl,o_img.size,o_img.shape)\n",
    "            show_image_grid([o_img], [o_img_fl], img_per_row=1)\n",
    "\n",
    "            images.append(o_img)\n",
    "            img_names.append(o_img_fl)\n",
    "            if graph_flag:\n",
    "                if len(o_img.shape) > 2:\n",
    "                    for j in range(o_img.shape[2]):\n",
    "                        Z = o_img[:,:,j]\n",
    "                        if o_img.shape[0] < o_img.shape[1]:\n",
    "                          Z = Z.transpose((1,0))\n",
    "                        plot_3d(Z,w=o_img.shape[0],h=o_img.shape[1],title=str(j))\n",
    "                else:\n",
    "                    plot_3d(Z=o_img,w=o_img.shape[0],h=o_img.shape[1],title='Greyscale=')\n",
    "        \n",
    "        if i % 1000 == 0:\n",
    "            print(\" %d images processed...\" % (i))\n",
    "        i += 1\n",
    "        "
   ]
  },
  {
   "cell_type": "code",
   "execution_count": 42,
   "metadata": {},
   "outputs": [],
   "source": [
    "def random_erase_np_v2(img, probability = 0.5, sl = 0.001, sh = 0.05, r1 = 0.3):\n",
    "    height = img.shape[0]\n",
    "    width = img.shape[1]\n",
    "    channel = img.shape[2]\n",
    "    area = width * height\n",
    "\n",
    "    #erase_area_low_bound = np.round( np.sqrt(sl * area * r1) ).astype(np.int)\n",
    "    #erase_area_up_bound = np.round( np.sqrt((sh * area) / r1) ).astype(np.int)\n",
    "    erase_area_low_bound = np.round( np.sqrt(sl * area)).astype(np.int)\n",
    "    erase_area_up_bound = np.round( np.sqrt(sh * area)).astype(np.int)\n",
    "    if erase_area_up_bound < height:\n",
    "        h_upper_bound = erase_area_up_bound\n",
    "    else:\n",
    "        h_upper_bound = height\n",
    "    if erase_area_up_bound < width:\n",
    "        w_upper_bound = erase_area_up_bound\n",
    "    else:\n",
    "        w_upper_bound = width\n",
    "\n",
    "    h = np.random.randint(erase_area_low_bound, h_upper_bound)\n",
    "    w = np.random.randint(erase_area_low_bound, w_upper_bound)\n",
    "\n",
    "    x1 = np.random.randint(0, height+1 - h)\n",
    "    y1 = np.random.randint(0, width+1 - w)\n",
    "\n",
    "    x1 = np.random.randint(0, height - h)\n",
    "    y1 = np.random.randint(0, width - w)\n",
    "    img[x1:x1+h, y1:y1+w, :] = np.random.randint(0, 255, size=(h, w, channel)).astype(np.uint8)\n",
    "    return img\n"
   ]
  },
  {
   "cell_type": "code",
   "execution_count": 71,
   "metadata": {},
   "outputs": [],
   "source": [
    "def generate_random_erase_samples( mythread_name: str, f_list: list, ddir: str, odir: str, sample_size: int, file_ext: str = '.jpg'):\n",
    "    i = 0\n",
    "    start = time.time()\n",
    "    for s_ind in range(sample_size):       \n",
    "        for file in f_list:\n",
    "            #print(ddir + file + file_ext)\n",
    "            img = io.imread( ddir + file + file_ext)\n",
    "            t_img = random_erase_np_v2(img,)\n",
    "            io.imsave( odir + file + '_' + str(s_ind) + file_ext,t_img)\n",
    "            i += 1\n",
    "            #show_image_grid([t_img], [file], img_per_row=1)\n",
    "            #print(\"file: {} time taken: {} img.shape: {} t_img.shape: {}\".format(file,time.time()-start,img.shape,t_img.shape))\n",
    "    print(\"Thread: {} generated {} images in {}...\".format(mythread_name,i,time.time()-start))"
   ]
  },
  {
   "cell_type": "code",
   "execution_count": 77,
   "metadata": {},
   "outputs": [
    {
     "name": "stdout",
     "output_type": "stream",
     "text": [
      "['IDRiD_50_2659', 'IDRiD_50_2342', 'IDRiD_50_2501', 'IDRiD_50_1744', 'IDRiD_72_3647']\n",
      "['IDRiD_50_2659' 'IDRiD_50_2342' 'IDRiD_50_2501' 'IDRiD_50_1744'] 4\n",
      "Thread: Thread-1 generated 20 images in 0.09718608856201172...\n",
      "Thread: Thread-0 generated 20 images in 0.10088205337524414...\n"
     ]
    }
   ],
   "source": [
    "def get_random_erase_samples( ddir: str, odir: str = '/tmp/images/', sample_size: int = 1, file_ext: str = '.jpg'):    \n",
    "    if not os.path.exists(odir):\n",
    "        os.mkdir(odir)\n",
    "    files = get_img_files_from_dir( ddir, file_name_pattern = \"^(.*?)\\\\\" + file_ext + \"$\")  \n",
    "    #print(files)\n",
    "    files = np.array(files,dtype='str')\n",
    "    if files.shape[0] > 1 and files.shape[0] % 2 != 0:\n",
    "        files = files[:-1] #skip last element to make it proper even number of array content\n",
    "    #print(files,files.shape[0])\n",
    "    files = np.split(files,2)\n",
    "    i = 0\n",
    "    for f_list in files:\n",
    "        #print(f_list)\n",
    "        #generate_random_erase_samples(f_list=f_list,ddir=ddir,odir=odir,sample_size=sample_size)\n",
    "        try:\n",
    "            x = threading.Thread( target=generate_random_erase_samples, args=(\"Thread-%d\" % (i), \\\n",
    "                                                                    f_list, \\\n",
    "                                                                    ddir, \\\n",
    "                                                                    odir, \\\n",
    "                                                                    sample_size, ) )\n",
    "            \n",
    "            x.start()\n",
    "            #x.join()\n",
    "            i += 1\n",
    "        except:\n",
    "            print(\"Error: unable to start thread\")\n",
    "\n",
    "get_random_erase_samples(ddir = '/disk1/data1/data/px_he1/img1/',sample_size=10)"
   ]
  },
  {
   "cell_type": "code",
   "execution_count": null,
   "metadata": {},
   "outputs": [],
   "source": []
  }
 ],
 "metadata": {
  "kernelspec": {
   "display_name": "Python 3",
   "language": "python",
   "name": "python3"
  },
  "language_info": {
   "codemirror_mode": {
    "name": "ipython",
    "version": 3
   },
   "file_extension": ".py",
   "mimetype": "text/x-python",
   "name": "python",
   "nbconvert_exporter": "python",
   "pygments_lexer": "ipython3",
   "version": "3.6.8"
  }
 },
 "nbformat": 4,
 "nbformat_minor": 2
}
