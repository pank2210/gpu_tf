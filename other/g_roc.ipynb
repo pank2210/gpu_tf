{
 "cells": [
  {
   "cell_type": "code",
   "execution_count": 61,
   "metadata": {},
   "outputs": [],
   "source": [
    "#import required libraries\n",
    "from sklearn import metrics\n",
    "import matplotlib.pyplot as plt\n",
    "import pandas as pd"
   ]
  },
  {
   "cell_type": "code",
   "execution_count": 62,
   "metadata": {},
   "outputs": [],
   "source": [
    "#function to read prediction data file. Generally expeceted to have format of label,probability score\n",
    "def read_pred_file(fl_name):\n",
    "    df = pd.read_csv( fl_name)\n",
    "    col1 = df.columns[0]\n",
    "    print(\"[%d] records loaded from File[%s] \" % (df[col1].count(),fl_name))\n",
    "    \n",
    "    return df"
   ]
  },
  {
   "cell_type": "code",
   "execution_count": 101,
   "metadata": {},
   "outputs": [],
   "source": [
    "#set key variables.\n",
    "ddir = '/disk1/data1/data/models/inception/'\n",
    "#model_name = 'incep_v3_he_wce_w25.cpkt'\n",
    "model_name = 'incep_v3_he.cpkt'\n",
    "steps = '15999'\n",
    "pred_df_fl = ddir + model_name + '-' + steps + '_df.csv'"
   ]
  },
  {
   "cell_type": "code",
   "execution_count": 102,
   "metadata": {},
   "outputs": [
    {
     "name": "stdout",
     "output_type": "stream",
     "text": [
      "[74448896] records loaded from File[/disk1/data1/data/models/inception/incep_v3_he.cpkt-15999_df.csv] \n"
     ]
    }
   ],
   "source": [
    "#load data\n",
    "pred_df = read_pred_file(pred_df_fl)"
   ]
  },
  {
   "cell_type": "code",
   "execution_count": 103,
   "metadata": {
    "scrolled": true
   },
   "outputs": [
    {
     "name": "stdout",
     "output_type": "stream",
     "text": [
      "Data columns:  Index(['label', 'prob'], dtype='object')\n",
      "   label      prob\n",
      "0    0.0  0.005524\n",
      "1    0.0  0.004265\n",
      "2    0.0  0.004293\n",
      "3    0.0  0.002902\n",
      "4    0.0  0.004698\n"
     ]
    }
   ],
   "source": [
    "#check data\n",
    "print(\"Data columns: \",pred_df.columns)\n",
    "print(pred_df.head())"
   ]
  },
  {
   "cell_type": "code",
   "execution_count": 104,
   "metadata": {},
   "outputs": [
    {
     "name": "stdout",
     "output_type": "stream",
     "text": [
      "AUC - [0.499955]\n"
     ]
    }
   ],
   "source": [
    "#calculate ROC specific details and plot the grpah\n",
    "fpr, tpr, _ = metrics.roc_curve(pred_df.label,  pred_df.prob)\n",
    "auc = metrics.roc_auc_score(pred_df.label,  pred_df.prob)\n",
    "print(\"AUC - [%f]\" % (auc))"
   ]
  },
  {
   "cell_type": "code",
   "execution_count": 105,
   "metadata": {},
   "outputs": [
    {
     "data": {
      "image/png": "[encoded data removed]",
      "text/plain": [
       "<Figure size 432x288 with 1 Axes>"
      ]
     },
     "metadata": {
      "needs_background": "light"
     },
     "output_type": "display_data"
    }
   ],
   "source": [
    "plt.plot(fpr,tpr,label=\"data 1, auc=\"+str(auc))\n",
    "plt.legend(loc=4)\n",
    "plt.show()"
   ]
  },
  {
   "cell_type": "code",
   "execution_count": 106,
   "metadata": {},
   "outputs": [],
   "source": [
    "#Prepare predcition for confusion matrix. create prediction using optimal threshold, in our case threshold is .5\n",
    "threshold = auc\n",
    "#threshold = 0.1\n",
    "pred_df['pred'] = pred_df.prob.apply(lambda x: 0. if x < threshold else 1.)"
   ]
  },
  {
   "cell_type": "code",
   "execution_count": 107,
   "metadata": {},
   "outputs": [],
   "source": [
    "#print confusion matrix.\n",
    "total = pred_df.label.count()\n",
    "\n",
    "tot_1s = pred_df[(pred_df.label == 1.)]['label'].count()\n",
    "tot_0s = pred_df[(pred_df.label == 0.)]['label'].count()\n",
    "tp = pred_df[(pred_df.label == pred_df.pred) & (pred_df.label == 1.)]['label'].count()\n",
    "tn = pred_df[(pred_df.label == pred_df.pred) & (pred_df.label == 0.)]['label'].count()\n",
    "fp = pred_df[(pred_df.label == 0.) & (pred_df.pred == 1.)]['label'].count()\n",
    "fn = pred_df[(pred_df.label == 1.) & (pred_df.pred == 0.)]['label'].count()\n",
    "#print(\" tp 1's : \",/tot_1s)\n",
    "#print(\" tp 0's : \",pred_df[(pred_df.label == pred_df.pred) & (pred_df.label == 0.)]['label'].count()/tot_0s)"
   ]
  },
  {
   "cell_type": "code",
   "execution_count": 108,
   "metadata": {},
   "outputs": [
    {
     "name": "stdout",
     "output_type": "stream",
     "text": [
      " tp:  200  fp:  13432\n",
      " fn:  1080852  tn:  73354412\n",
      " Total labels 1's:  1081052  Total labels 0's:  73367844\n",
      " % labels 1's:  0.014520725733797315  % labels 0's:  0.9854792742662026\n",
      " Precision:  0.014671361502347418\n",
      " Recall:  0.00018500497663387146\n",
      " F1 score:  0.00036540225307029245\n"
     ]
    }
   ],
   "source": [
    "'''------not weigthed CE-------\n",
    " tp:  200  fp:  13432\n",
    " fn:  1080852  tn:  73354412\n",
    " Total labels 1's:  1081052  Total labels 0's:  73367844\n",
    " % labels 1's:  0.014520725733797315  % labels 0's:  0.9854792742662026\n",
    " Precision:  0.014671361502347418\n",
    " Recall:  0.00018500497663387146\n",
    " F1 score:  0.00036540225307029245\n",
    "  ----------w=10---------\n",
    " tp:  67  fp:  4477\n",
    " fn:  1080985  tn:  73363367\n",
    " Total labels 1's:  1081052  Total labels 0's:  73367844\n",
    " % labels 1's:  0.014520725733797315  % labels 0's:  0.9854792742662026\n",
    " Precision:  0.014744718309859154\n",
    " Recall:  6.197666717234694e-05\n",
    " F1 score:  0.00012343450049558032\n",
    " ----------w=25---------\n",
    "  tp:  9087  fp:  617985\n",
    " fn:  1071965  tn:  72749859\n",
    " Total labels 1's:  1081052  Total labels 0's:  73367844\n",
    " % labels 1's:  0.014520725733797315  % labels 0's:  0.9854792742662026\n",
    " Precision:  0.014491158909981629\n",
    " Recall:  0.00840570111335995\n",
    " F1 score:  0.01063974278213994\n",
    " ----------w=50---------\n",
    " tp:  26411  fp:  1791189\n",
    " fn:  1054641  tn:  71576655\n",
    " Total labels 1's:  1081052  Total labels 0's:  73367844\n",
    " % labels 1's:  0.014520725733797315  % labels 0's:  0.9854792742662026\n",
    " Precision:  0.014530699823943663\n",
    " Recall:  0.024430832189385895\n",
    " F1 score:  0.018222953290012046\n",
    " ----------w=75---------\n",
    "  tp:  55304  fp:  3748024\n",
    " fn:  1025748  tn:  69619820\n",
    " Total labels 1's:  1081052  Total labels 0's:  73367844\n",
    " % labels 1's:  0.014520725733797315  % labels 0's:  0.9854792742662026\n",
    " Precision:  0.014540949400104329\n",
    " Recall:  0.051157576138798136\n",
    " F1 score:  0.022645248731671164\n",
    "----------w=100---------\n",
    " tp:  98815  fp:  6703553\n",
    " fn:  982237  tn:  66664291\n",
    " Total labels 1's:  1081052  Total labels 0's:  73367844\n",
    " % labels 1's:  0.014520725733797315  % labels 0's:  0.9854792742662026\n",
    " Precision:  0.014526558986517637\n",
    " Recall:  0.09140633383038003\n",
    " F1 score:  0.02506906900812084\n",
    "'''\n",
    "print(\" tp: \",tp,\" fp: \",fp)\n",
    "print(\" fn: \",fn,\" tn: \",tn)\n",
    "print(\" Total labels 1's: \",tot_1s,\" Total labels 0's: \",tot_0s)\n",
    "print(\" % labels 1's: \",tot_1s/total,\" % labels 0's: \",tot_0s/total)\n",
    "precision = tp/(tp+fp)\n",
    "recall = tp/(tp+fn)\n",
    "print(\" Precision: \",precision)\n",
    "print(\" Recall: \",recall)\n",
    "print(\" F1 score: \",2*precision*recall/(precision+recall))\n"
   ]
  },
  {
   "cell_type": "code",
   "execution_count": 87,
   "metadata": {},
   "outputs": [
    {
     "name": "stdout",
     "output_type": "stream",
     "text": [
      "   label      prob  pred\n",
      "0    0.0  0.479375   0.0\n",
      "1    0.0  0.497975   0.0\n",
      "2    0.0  0.499344   0.0\n",
      "3    0.0  0.477318   0.0\n",
      "4    0.0  0.454706   0.0\n",
      "[0. 1.]\n",
      "[0. 1.]\n"
     ]
    }
   ],
   "source": [
    "print(pred_df.head())\n",
    "print(pred_df.pred.unique())\n",
    "print(pred_df.label.unique())"
   ]
  },
  {
   "cell_type": "code",
   "execution_count": 88,
   "metadata": {},
   "outputs": [
    {
     "data": {
      "text/plain": [
       "count    3.748024e+06\n",
       "mean     5.066868e-01\n",
       "std      6.023322e-03\n",
       "min      5.000475e-01\n",
       "25%      5.020679e-01\n",
       "50%      5.049889e-01\n",
       "75%      5.098623e-01\n",
       "max      5.425791e-01\n",
       "Name: prob, dtype: float64"
      ]
     },
     "execution_count": 88,
     "metadata": {},
     "output_type": "execute_result"
    }
   ],
   "source": [
    "fp_df = pred_df[(pred_df.label == 0.) & (pred_df.pred == 1.)]\n",
    "fp_df.prob.describe()"
   ]
  },
  {
   "cell_type": "code",
   "execution_count": 89,
   "metadata": {},
   "outputs": [
    {
     "data": {
      "text/plain": [
       "count    1.025748e+06\n",
       "mean     4.746065e-01\n",
       "std      1.291293e-02\n",
       "min      4.243577e-01\n",
       "25%      4.656403e-01\n",
       "50%      4.752563e-01\n",
       "75%      4.841886e-01\n",
       "max      5.000292e-01\n",
       "Name: prob, dtype: float64"
      ]
     },
     "execution_count": 89,
     "metadata": {},
     "output_type": "execute_result"
    }
   ],
   "source": [
    "fn_df = pred_df[(pred_df.label == 1.) & (pred_df.pred == 0.)]\n",
    "fn_df.prob.describe()"
   ]
  },
  {
   "cell_type": "code",
   "execution_count": 90,
   "metadata": {},
   "outputs": [
    {
     "data": {
      "text/plain": [
       "count    6.961982e+07\n",
       "mean     4.746066e-01\n",
       "std      1.291171e-02\n",
       "min      4.243577e-01\n",
       "25%      4.656393e-01\n",
       "50%      4.752563e-01\n",
       "75%      4.841857e-01\n",
       "max      5.000292e-01\n",
       "Name: prob, dtype: float64"
      ]
     },
     "execution_count": 90,
     "metadata": {},
     "output_type": "execute_result"
    }
   ],
   "source": [
    "tn_df = pred_df[(pred_df.label == pred_df.pred) & (pred_df.label == 0.)]\n",
    "tn_df.prob.describe()\n"
   ]
  },
  {
   "cell_type": "code",
   "execution_count": 91,
   "metadata": {},
   "outputs": [
    {
     "data": {
      "text/plain": [
       "count    55304.000000\n",
       "mean         0.506684\n",
       "std          0.006025\n",
       "min          0.500048\n",
       "25%          0.502068\n",
       "50%          0.504989\n",
       "75%          0.509862\n",
       "max          0.542579\n",
       "Name: prob, dtype: float64"
      ]
     },
     "execution_count": 91,
     "metadata": {},
     "output_type": "execute_result"
    }
   ],
   "source": [
    "tp_df = pred_df[(pred_df.label == pred_df.pred) & (pred_df.label == 1.)]\n",
    "tp_df.prob.describe()"
   ]
  },
  {
   "cell_type": "code",
   "execution_count": null,
   "metadata": {},
   "outputs": [],
   "source": [
    "print(tn_df.head())\n",
    "print(fn_df.head())\n",
    "print(tn_df.prob.describe())\n",
    "print(fn_df.prob.describe())"
   ]
  },
  {
   "cell_type": "code",
   "execution_count": null,
   "metadata": {},
   "outputs": [],
   "source": []
  }
 ],
 "metadata": {
  "kernelspec": {
   "display_name": "Python 3",
   "language": "python",
   "name": "python3"
  },
  "language_info": {
   "codemirror_mode": {
    "name": "ipython",
    "version": 3
   },
   "file_extension": ".py",
   "mimetype": "text/x-python",
   "name": "python",
   "nbconvert_exporter": "python",
   "pygments_lexer": "ipython3",
   "version": "3.6.8"
  }
 },
 "nbformat": 4,
 "nbformat_minor": 2
}
