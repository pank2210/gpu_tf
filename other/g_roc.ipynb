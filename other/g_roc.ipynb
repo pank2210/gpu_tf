{
 "cells": [
  {
   "cell_type": "code",
   "execution_count": 16,
   "metadata": {},
   "outputs": [],
   "source": [
    "#import required libraries\n",
    "from sklearn import metrics\n",
    "import matplotlib.pyplot as plt\n",
    "import pandas as pd"
   ]
  },
  {
   "cell_type": "code",
   "execution_count": 17,
   "metadata": {},
   "outputs": [],
   "source": [
    "#function to read prediction data file. Generally expeceted to have format of label,probability score\n",
    "def read_pred_file(fl_name):\n",
    "    df = pd.read_csv( fl_name)\n",
    "    col1 = df.columns[0]\n",
    "    print(\"[%d] records loaded from File[%s] \" % (df[col1].count(),fl_name))\n",
    "    \n",
    "    return df"
   ]
  },
  {
   "cell_type": "code",
   "execution_count": 19,
   "metadata": {},
   "outputs": [],
   "source": [
    "#set key variables.\n",
    "ddir = '/disk1/data1/data/models/inception/'\n",
    "model_name = 'incep_v3_he.cpkt'\n",
    "steps = '15999'\n",
    "pred_df_fl = ddir + model_name + '-' + steps + '_df.csv'\n"
   ]
  },
  {
   "cell_type": "code",
   "execution_count": 20,
   "metadata": {},
   "outputs": [
    {
     "name": "stdout",
     "output_type": "stream",
     "text": [
      "[74448896] records loaded from File[/disk1/data1/data/models/inception/incep_v3_he.cpkt-15999_df.csv] \n"
     ]
    }
   ],
   "source": [
    "#load data\n",
    "pred_df = read_pred_file(pred_df_fl)"
   ]
  },
  {
   "cell_type": "code",
   "execution_count": 21,
   "metadata": {
    "scrolled": true
   },
   "outputs": [
    {
     "name": "stdout",
     "output_type": "stream",
     "text": [
      "Data columns:  Index(['label', 'prob'], dtype='object')\n",
      "   label      prob\n",
      "0    0.0  0.005524\n",
      "1    0.0  0.004265\n",
      "2    0.0  0.004293\n",
      "3    0.0  0.002902\n",
      "4    0.0  0.004698\n"
     ]
    }
   ],
   "source": [
    "#check data\n",
    "print(\"Data columns: \",pred_df.columns)\n",
    "print(pred_df.head())"
   ]
  },
  {
   "cell_type": "code",
   "execution_count": 22,
   "metadata": {},
   "outputs": [],
   "source": [
    "#calculate ROC specific details and plot the grpah\n",
    "fpr, tpr, _ = metrics.roc_curve(pred_df.label,  pred_df.prob)\n",
    "auc = metrics.roc_auc_score(pred_df.label,  pred_df.prob)\n"
   ]
  },
  {
   "cell_type": "code",
   "execution_count": 23,
   "metadata": {},
   "outputs": [
    {
     "data": {
      "image/png": "[encoded data removed]",
      "text/plain": [
       "<Figure size 432x288 with 1 Axes>"
      ]
     },
     "metadata": {
      "needs_background": "light"
     },
     "output_type": "display_data"
    }
   ],
   "source": [
    "plt.plot(fpr,tpr,label=\"data 1, auc=\"+str(auc))\n",
    "plt.legend(loc=4)\n",
    "plt.show()"
   ]
  },
  {
   "cell_type": "code",
   "execution_count": 24,
   "metadata": {},
   "outputs": [],
   "source": [
    "#Prepare predcition for confusion matrix. create prediction using optimal threshold, in our case threshold is .5\n",
    "threshold = auc\n",
    "#threshold = 0.1\n",
    "pred_df['pred'] = pred_df.prob.apply(lambda x: 0. if x < threshold else 1.)"
   ]
  },
  {
   "cell_type": "code",
   "execution_count": 25,
   "metadata": {},
   "outputs": [],
   "source": [
    "#print confusion matrix.\n",
    "total = pred_df.label.count()\n",
    "\n",
    "tot_1s = pred_df[(pred_df.label == 1.)]['label'].count()\n",
    "tot_0s = pred_df[(pred_df.label == 0.)]['label'].count()\n",
    "tp = pred_df[(pred_df.label == pred_df.pred) & (pred_df.label == 1.)]['label'].count()\n",
    "tn = pred_df[(pred_df.label == pred_df.pred) & (pred_df.label == 0.)]['label'].count()\n",
    "fp = pred_df[(pred_df.label == 0.) & (pred_df.pred == 1.)]['label'].count()\n",
    "fn = pred_df[(pred_df.label == 1.) & (pred_df.pred == 0.)]['label'].count()\n",
    "#print(\" tp 1's : \",/tot_1s)\n",
    "#print(\" tp 0's : \",pred_df[(pred_df.label == pred_df.pred) & (pred_df.label == 0.)]['label'].count()/tot_0s)"
   ]
  },
  {
   "cell_type": "code",
   "execution_count": 26,
   "metadata": {},
   "outputs": [
    {
     "name": "stdout",
     "output_type": "stream",
     "text": [
      " tp:  200  fp:  13432\n",
      " fn:  1080852  tn:  73354412\n",
      " Total labels 1's:  1081052  Total labels 0's:  73367844\n",
      " % labels 1's:  0.014520725733797315  % labels 0's:  0.9854792742662026\n",
      " Precision:  0.014671361502347418\n",
      " Recall:  0.00018500497663387146\n",
      " F1 score:  0.00036540225307029245\n"
     ]
    }
   ],
   "source": [
    "print(\" tp: \",tp,\" fp: \",fp)\n",
    "print(\" fn: \",fn,\" tn: \",tn)\n",
    "print(\" Total labels 1's: \",tot_1s,\" Total labels 0's: \",tot_0s)\n",
    "print(\" % labels 1's: \",tot_1s/total,\" % labels 0's: \",tot_0s/total)\n",
    "precision = tp/(tp+fp)\n",
    "recall = tp/(tp+fn)\n",
    "print(\" Precision: \",precision)\n",
    "print(\" Recall: \",recall)\n",
    "print(\" F1 score: \",2*precision*recall/(precision+recall))\n"
   ]
  },
  {
   "cell_type": "code",
   "execution_count": 27,
   "metadata": {},
   "outputs": [
    {
     "name": "stdout",
     "output_type": "stream",
     "text": [
      "   label      prob  pred\n",
      "0    0.0  0.005524   0.0\n",
      "1    0.0  0.004265   0.0\n",
      "2    0.0  0.004293   0.0\n",
      "3    0.0  0.002902   0.0\n",
      "4    0.0  0.004698   0.0\n",
      "[0. 1.]\n",
      "[0. 1.]\n"
     ]
    }
   ],
   "source": [
    "print(pred_df.head())\n",
    "print(pred_df.pred.unique())\n",
    "print(pred_df.label.unique())"
   ]
  },
  {
   "cell_type": "code",
   "execution_count": 28,
   "metadata": {},
   "outputs": [
    {
     "data": {
      "text/plain": [
       "count    13432.000000\n",
       "mean         0.898235\n",
       "std          0.119838\n",
       "min          0.729993\n",
       "25%          0.729994\n",
       "50%          0.965098\n",
       "75%          0.999704\n",
       "max          0.999704\n",
       "Name: prob, dtype: float64"
      ]
     },
     "execution_count": 28,
     "metadata": {},
     "output_type": "execute_result"
    }
   ],
   "source": [
    "fp_df = pred_df[(pred_df.label == 0.) & (pred_df.pred == 1.)]\n",
    "fp_df.prob.describe()"
   ]
  },
  {
   "cell_type": "code",
   "execution_count": 29,
   "metadata": {},
   "outputs": [
    {
     "data": {
      "text/plain": [
       "count    1.080852e+06\n",
       "mean     3.402758e-03\n",
       "std      1.619498e-03\n",
       "min      6.470978e-04\n",
       "25%      2.671361e-03\n",
       "50%      3.296733e-03\n",
       "75%      3.984332e-03\n",
       "max      1.611692e-01\n",
       "Name: prob, dtype: float64"
      ]
     },
     "execution_count": 29,
     "metadata": {},
     "output_type": "execute_result"
    }
   ],
   "source": [
    "fn_df = pred_df[(pred_df.label == 1.) & (pred_df.pred == 0.)]\n",
    "fn_df.prob.describe()"
   ]
  },
  {
   "cell_type": "code",
   "execution_count": 14,
   "metadata": {},
   "outputs": [
    {
     "data": {
      "text/plain": [
       "count    7.229045e+07\n",
       "mean     3.563314e-03\n",
       "std      5.016758e-03\n",
       "min      1.904070e-04\n",
       "25%      2.833366e-03\n",
       "50%      3.332794e-03\n",
       "75%      3.891259e-03\n",
       "max      3.675114e-01\n",
       "Name: prob, dtype: float64"
      ]
     },
     "execution_count": 14,
     "metadata": {},
     "output_type": "execute_result"
    }
   ],
   "source": [
    "tn_df = pred_df[(pred_df.label == pred_df.pred) & (pred_df.label == 0.)]\n",
    "tn_df.prob.describe()\n"
   ]
  },
  {
   "cell_type": "code",
   "execution_count": 15,
   "metadata": {},
   "outputs": [
    {
     "name": "stdout",
     "output_type": "stream",
     "text": [
      "   label      prob  pred\n",
      "0    0.0  0.001972   0.0\n",
      "1    0.0  0.004272   0.0\n",
      "2    0.0  0.003694   0.0\n",
      "3    0.0  0.003321   0.0\n",
      "4    0.0  0.003823   0.0\n",
      "         label      prob  pred\n",
      "8204386    1.0  0.002200   0.0\n",
      "8204390    1.0  0.003126   0.0\n",
      "8204394    1.0  0.003967   0.0\n",
      "8204395    1.0  0.002489   0.0\n",
      "8204397    1.0  0.004136   0.0\n",
      "count    7.229045e+07\n",
      "mean     3.563314e-03\n",
      "std      5.016758e-03\n",
      "min      1.904070e-04\n",
      "25%      2.833366e-03\n",
      "50%      3.332794e-03\n",
      "75%      3.891259e-03\n",
      "max      3.675114e-01\n",
      "Name: prob, dtype: float64\n",
      "count    2.040302e+06\n",
      "mean     3.493844e-03\n",
      "std      5.078577e-03\n",
      "min      1.927614e-04\n",
      "25%      2.775759e-03\n",
      "50%      3.261894e-03\n",
      "75%      3.807873e-03\n",
      "max      3.664449e-01\n",
      "Name: prob, dtype: float64\n"
     ]
    }
   ],
   "source": [
    "print(tn_df.head())\n",
    "print(fn_df.head())\n",
    "print(tn_df.prob.describe())\n",
    "print(fn_df.prob.describe())"
   ]
  },
  {
   "cell_type": "code",
   "execution_count": null,
   "metadata": {},
   "outputs": [],
   "source": []
  }
 ],
 "metadata": {
  "kernelspec": {
   "display_name": "Python 3",
   "language": "python",
   "name": "python3"
  },
  "language_info": {
   "codemirror_mode": {
    "name": "ipython",
    "version": 3
   },
   "file_extension": ".py",
   "mimetype": "text/x-python",
   "name": "python",
   "nbconvert_exporter": "python",
   "pygments_lexer": "ipython3",
   "version": "3.6.8"
  }
 },
 "nbformat": 4,
 "nbformat_minor": 2
}
