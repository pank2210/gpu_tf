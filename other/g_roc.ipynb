{
 "cells": [
  {
   "cell_type": "code",
   "execution_count": 132,
   "metadata": {},
   "outputs": [],
   "source": [
    "#import required libraries\n",
    "import sys\n",
    "import os\n",
    "\n",
    "from sklearn import metrics\n",
    "import matplotlib.pyplot as plt\n",
    "%matplotlib inline\n",
    "import numpy as np\n",
    "import pandas as pd"
   ]
  },
  {
   "cell_type": "code",
   "execution_count": 62,
   "metadata": {},
   "outputs": [],
   "source": [
    "#function to read prediction data file. Generally expeceted to have format of label,probability score\n",
    "def read_pred_file(fl_name):\n",
    "    df = pd.read_csv( fl_name)\n",
    "    col1 = df.columns[0]\n",
    "    print(\"[%d] records loaded from File[%s] \" % (df[col1].count(),fl_name))\n",
    "    \n",
    "    return df"
   ]
  },
  {
   "cell_type": "code",
   "execution_count": 170,
   "metadata": {},
   "outputs": [],
   "source": [
    "#set key variables.\n",
    "ddir = '/disk1/data1/data/models/inception/'\n",
    "#model_name = 'incep_v3_he_wce_w25.cpkt'\n",
    "model_name = 'incep_v3_he_da_wce10.cpkt'\n",
    "steps = '79000'\n",
    "pred_df_fl = ddir + model_name + '-' + steps + '_df.csv'\n",
    "\n"
   ]
  },
  {
   "cell_type": "code",
   "execution_count": 241,
   "metadata": {},
   "outputs": [
    {
     "name": "stdout",
     "output_type": "stream",
     "text": [
      "Executing command - [grep 'step ' /tmp/kpre_b8_lr0000001.out | cut -d ' ' -f4,5,10 | sed  's/ loss=//g' | sed 's/ accu\\[/,/g' | sed 's/\\]//g' > /tmp/modelrun_df.csv]\n",
      "Empty DataFrame\n",
      "Columns: [step, loss, accu]\n",
      "Index: []\n",
      "Min loss [5193.85] Max loss [18306.44]\n",
      "Min accu [0.0] Max accu [0.42971000000000004]\n",
      "[<matplotlib.lines.Line2D object at 0x7f5af1289128>]\n",
      "[<matplotlib.lines.Line2D object at 0x7f5af1289160>]\n"
     ]
    },
    {
     "data": {
      "image/png": "[encoded data removed]",
      "text/plain": [
       "<Figure size 432x288 with 1 Axes>"
      ]
     },
     "metadata": {},
     "output_type": "display_data"
    }
   ],
   "source": [
    "#scan model nohup output file for key data points.\n",
    "tmp = '/tmp/'\n",
    "model_log_fl = 'kpre_b8_lr0000001.out'\n",
    "modelrun_df_fl = 'modelrun_df.csv'\n",
    "\n",
    "def run_analysis():\n",
    "    cmd = \"grep 'step ' \" + tmp + model_log_fl \\\n",
    "                + \" | cut -d ' ' -f4,5,10 | sed  's/ loss=//g' | sed 's/ accu\\[/,/g' | sed 's/\\]//g' > \" \\\n",
    "                + tmp + modelrun_df_fl\n",
    "    print(\"Executing command - [{}]\".format(cmd))\n",
    "    os.system(cmd)\n",
    "    modelrun_df = pd.read_csv( tmp + modelrun_df_fl, names=['step','loss','accu'])\n",
    "    modelrun_df.accu = pd.to_numeric(modelrun_df.accu, errors='coerce')\n",
    "    print(modelrun_df[modelrun_df.accu < .1])\n",
    "    modelrun_df.accu= modelrun_df.accu.fillna(0.00)\n",
    "    #print(df.head())\n",
    "    \n",
    "    return modelrun_df\n",
    "\n",
    "def get_analysis_graph(modelrun_df):\n",
    "    #plt.style.use('seaborn-whitegrid')\n",
    "    fig = plt.figure()\n",
    "    ax = plt.axes()\n",
    "    #x = np.linspace(0, 1000, 100000)\n",
    "    min = modelrun_df['loss'].min()\n",
    "    max = modelrun_df['loss'].max()\n",
    "    print(\"Min loss [{}] Max loss [{}]\".format(min,max))\n",
    "    print(\"Min accu [{}] Max accu [{}]\".format(modelrun_df['accu'].min(),modelrun_df['accu'].max()))\n",
    "    #plt.plot(modelrun_df['step'],modelrun_df['accu'],color='blue');\n",
    "    #plt.plot(modelrun_df['step'],(modelrun_df['loss']-min)/max,color='green');\n",
    "    print(ax.plot(modelrun_df['step'],modelrun_df['accu']))\n",
    "    print(ax.plot(modelrun_df['step'],(modelrun_df['loss']-min)/max,color='green'))\n",
    "    #print(ax.plot(modelrun_df['step'],modelrun_df['loss'],color='red'))\n",
    "\n",
    "modelrun_df = run_analysis()\n",
    "get_analysis_graph(modelrun_df)\n"
   ]
  },
  {
   "cell_type": "code",
   "execution_count": 238,
   "metadata": {},
   "outputs": [
    {
     "ename": "FileNotFoundError",
     "evalue": "[Errno 2] File b'/disk1/data1/data/models/inception/incep_v3_he_da_wce10.cpkt-79000_df.csv' does not exist: b'/disk1/data1/data/models/inception/incep_v3_he_da_wce10.cpkt-79000_df.csv'",
     "output_type": "error",
     "traceback": [
      "\u001b[0;31m---------------------------------------------------------------------------\u001b[0m",
      "\u001b[0;31mFileNotFoundError\u001b[0m                         Traceback (most recent call last)",
      "\u001b[0;32m<ipython-input-238-368d2bedb3e8>\u001b[0m in \u001b[0;36m<module>\u001b[0;34m\u001b[0m\n\u001b[1;32m      1\u001b[0m \u001b[0;31m#load data\u001b[0m\u001b[0;34m\u001b[0m\u001b[0;34m\u001b[0m\u001b[0;34m\u001b[0m\u001b[0m\n\u001b[0;32m----> 2\u001b[0;31m \u001b[0mpred_df\u001b[0m \u001b[0;34m=\u001b[0m \u001b[0mread_pred_file\u001b[0m\u001b[0;34m(\u001b[0m\u001b[0mpred_df_fl\u001b[0m\u001b[0;34m)\u001b[0m\u001b[0;34m\u001b[0m\u001b[0;34m\u001b[0m\u001b[0m\n\u001b[0m",
      "\u001b[0;32m<ipython-input-62-8cee96e15374>\u001b[0m in \u001b[0;36mread_pred_file\u001b[0;34m(fl_name)\u001b[0m\n\u001b[1;32m      1\u001b[0m \u001b[0;31m#function to read prediction data file. Generally expeceted to have format of label,probability score\u001b[0m\u001b[0;34m\u001b[0m\u001b[0;34m\u001b[0m\u001b[0;34m\u001b[0m\u001b[0m\n\u001b[1;32m      2\u001b[0m \u001b[0;32mdef\u001b[0m \u001b[0mread_pred_file\u001b[0m\u001b[0;34m(\u001b[0m\u001b[0mfl_name\u001b[0m\u001b[0;34m)\u001b[0m\u001b[0;34m:\u001b[0m\u001b[0;34m\u001b[0m\u001b[0;34m\u001b[0m\u001b[0m\n\u001b[0;32m----> 3\u001b[0;31m     \u001b[0mdf\u001b[0m \u001b[0;34m=\u001b[0m \u001b[0mpd\u001b[0m\u001b[0;34m.\u001b[0m\u001b[0mread_csv\u001b[0m\u001b[0;34m(\u001b[0m \u001b[0mfl_name\u001b[0m\u001b[0;34m)\u001b[0m\u001b[0;34m\u001b[0m\u001b[0;34m\u001b[0m\u001b[0m\n\u001b[0m\u001b[1;32m      4\u001b[0m     \u001b[0mcol1\u001b[0m \u001b[0;34m=\u001b[0m \u001b[0mdf\u001b[0m\u001b[0;34m.\u001b[0m\u001b[0mcolumns\u001b[0m\u001b[0;34m[\u001b[0m\u001b[0;36m0\u001b[0m\u001b[0;34m]\u001b[0m\u001b[0;34m\u001b[0m\u001b[0;34m\u001b[0m\u001b[0m\n\u001b[1;32m      5\u001b[0m     \u001b[0mprint\u001b[0m\u001b[0;34m(\u001b[0m\u001b[0;34m\"[%d] records loaded from File[%s] \"\u001b[0m \u001b[0;34m%\u001b[0m \u001b[0;34m(\u001b[0m\u001b[0mdf\u001b[0m\u001b[0;34m[\u001b[0m\u001b[0mcol1\u001b[0m\u001b[0;34m]\u001b[0m\u001b[0;34m.\u001b[0m\u001b[0mcount\u001b[0m\u001b[0;34m(\u001b[0m\u001b[0;34m)\u001b[0m\u001b[0;34m,\u001b[0m\u001b[0mfl_name\u001b[0m\u001b[0;34m)\u001b[0m\u001b[0;34m)\u001b[0m\u001b[0;34m\u001b[0m\u001b[0;34m\u001b[0m\u001b[0m\n",
      "\u001b[0;32m/disk1/data1/ret/venv/lib/python3.6/site-packages/pandas/io/parsers.py\u001b[0m in \u001b[0;36mparser_f\u001b[0;34m(filepath_or_buffer, sep, delimiter, header, names, index_col, usecols, squeeze, prefix, mangle_dupe_cols, dtype, engine, converters, true_values, false_values, skipinitialspace, skiprows, skipfooter, nrows, na_values, keep_default_na, na_filter, verbose, skip_blank_lines, parse_dates, infer_datetime_format, keep_date_col, date_parser, dayfirst, iterator, chunksize, compression, thousands, decimal, lineterminator, quotechar, quoting, doublequote, escapechar, comment, encoding, dialect, tupleize_cols, error_bad_lines, warn_bad_lines, delim_whitespace, low_memory, memory_map, float_precision)\u001b[0m\n\u001b[1;32m    700\u001b[0m                     skip_blank_lines=skip_blank_lines)\n\u001b[1;32m    701\u001b[0m \u001b[0;34m\u001b[0m\u001b[0m\n\u001b[0;32m--> 702\u001b[0;31m         \u001b[0;32mreturn\u001b[0m \u001b[0m_read\u001b[0m\u001b[0;34m(\u001b[0m\u001b[0mfilepath_or_buffer\u001b[0m\u001b[0;34m,\u001b[0m \u001b[0mkwds\u001b[0m\u001b[0;34m)\u001b[0m\u001b[0;34m\u001b[0m\u001b[0;34m\u001b[0m\u001b[0m\n\u001b[0m\u001b[1;32m    703\u001b[0m \u001b[0;34m\u001b[0m\u001b[0m\n\u001b[1;32m    704\u001b[0m     \u001b[0mparser_f\u001b[0m\u001b[0;34m.\u001b[0m\u001b[0m__name__\u001b[0m \u001b[0;34m=\u001b[0m \u001b[0mname\u001b[0m\u001b[0;34m\u001b[0m\u001b[0;34m\u001b[0m\u001b[0m\n",
      "\u001b[0;32m/disk1/data1/ret/venv/lib/python3.6/site-packages/pandas/io/parsers.py\u001b[0m in \u001b[0;36m_read\u001b[0;34m(filepath_or_buffer, kwds)\u001b[0m\n\u001b[1;32m    427\u001b[0m \u001b[0;34m\u001b[0m\u001b[0m\n\u001b[1;32m    428\u001b[0m     \u001b[0;31m# Create the parser.\u001b[0m\u001b[0;34m\u001b[0m\u001b[0;34m\u001b[0m\u001b[0;34m\u001b[0m\u001b[0m\n\u001b[0;32m--> 429\u001b[0;31m     \u001b[0mparser\u001b[0m \u001b[0;34m=\u001b[0m \u001b[0mTextFileReader\u001b[0m\u001b[0;34m(\u001b[0m\u001b[0mfilepath_or_buffer\u001b[0m\u001b[0;34m,\u001b[0m \u001b[0;34m**\u001b[0m\u001b[0mkwds\u001b[0m\u001b[0;34m)\u001b[0m\u001b[0;34m\u001b[0m\u001b[0;34m\u001b[0m\u001b[0m\n\u001b[0m\u001b[1;32m    430\u001b[0m \u001b[0;34m\u001b[0m\u001b[0m\n\u001b[1;32m    431\u001b[0m     \u001b[0;32mif\u001b[0m \u001b[0mchunksize\u001b[0m \u001b[0;32mor\u001b[0m \u001b[0miterator\u001b[0m\u001b[0;34m:\u001b[0m\u001b[0;34m\u001b[0m\u001b[0;34m\u001b[0m\u001b[0m\n",
      "\u001b[0;32m/disk1/data1/ret/venv/lib/python3.6/site-packages/pandas/io/parsers.py\u001b[0m in \u001b[0;36m__init__\u001b[0;34m(self, f, engine, **kwds)\u001b[0m\n\u001b[1;32m    893\u001b[0m             \u001b[0mself\u001b[0m\u001b[0;34m.\u001b[0m\u001b[0moptions\u001b[0m\u001b[0;34m[\u001b[0m\u001b[0;34m'has_index_names'\u001b[0m\u001b[0;34m]\u001b[0m \u001b[0;34m=\u001b[0m \u001b[0mkwds\u001b[0m\u001b[0;34m[\u001b[0m\u001b[0;34m'has_index_names'\u001b[0m\u001b[0;34m]\u001b[0m\u001b[0;34m\u001b[0m\u001b[0;34m\u001b[0m\u001b[0m\n\u001b[1;32m    894\u001b[0m \u001b[0;34m\u001b[0m\u001b[0m\n\u001b[0;32m--> 895\u001b[0;31m         \u001b[0mself\u001b[0m\u001b[0;34m.\u001b[0m\u001b[0m_make_engine\u001b[0m\u001b[0;34m(\u001b[0m\u001b[0mself\u001b[0m\u001b[0;34m.\u001b[0m\u001b[0mengine\u001b[0m\u001b[0;34m)\u001b[0m\u001b[0;34m\u001b[0m\u001b[0;34m\u001b[0m\u001b[0m\n\u001b[0m\u001b[1;32m    896\u001b[0m \u001b[0;34m\u001b[0m\u001b[0m\n\u001b[1;32m    897\u001b[0m     \u001b[0;32mdef\u001b[0m \u001b[0mclose\u001b[0m\u001b[0;34m(\u001b[0m\u001b[0mself\u001b[0m\u001b[0;34m)\u001b[0m\u001b[0;34m:\u001b[0m\u001b[0;34m\u001b[0m\u001b[0;34m\u001b[0m\u001b[0m\n",
      "\u001b[0;32m/disk1/data1/ret/venv/lib/python3.6/site-packages/pandas/io/parsers.py\u001b[0m in \u001b[0;36m_make_engine\u001b[0;34m(self, engine)\u001b[0m\n\u001b[1;32m   1120\u001b[0m     \u001b[0;32mdef\u001b[0m \u001b[0m_make_engine\u001b[0m\u001b[0;34m(\u001b[0m\u001b[0mself\u001b[0m\u001b[0;34m,\u001b[0m \u001b[0mengine\u001b[0m\u001b[0;34m=\u001b[0m\u001b[0;34m'c'\u001b[0m\u001b[0;34m)\u001b[0m\u001b[0;34m:\u001b[0m\u001b[0;34m\u001b[0m\u001b[0;34m\u001b[0m\u001b[0m\n\u001b[1;32m   1121\u001b[0m         \u001b[0;32mif\u001b[0m \u001b[0mengine\u001b[0m \u001b[0;34m==\u001b[0m \u001b[0;34m'c'\u001b[0m\u001b[0;34m:\u001b[0m\u001b[0;34m\u001b[0m\u001b[0;34m\u001b[0m\u001b[0m\n\u001b[0;32m-> 1122\u001b[0;31m             \u001b[0mself\u001b[0m\u001b[0;34m.\u001b[0m\u001b[0m_engine\u001b[0m \u001b[0;34m=\u001b[0m \u001b[0mCParserWrapper\u001b[0m\u001b[0;34m(\u001b[0m\u001b[0mself\u001b[0m\u001b[0;34m.\u001b[0m\u001b[0mf\u001b[0m\u001b[0;34m,\u001b[0m \u001b[0;34m**\u001b[0m\u001b[0mself\u001b[0m\u001b[0;34m.\u001b[0m\u001b[0moptions\u001b[0m\u001b[0;34m)\u001b[0m\u001b[0;34m\u001b[0m\u001b[0;34m\u001b[0m\u001b[0m\n\u001b[0m\u001b[1;32m   1123\u001b[0m         \u001b[0;32melse\u001b[0m\u001b[0;34m:\u001b[0m\u001b[0;34m\u001b[0m\u001b[0;34m\u001b[0m\u001b[0m\n\u001b[1;32m   1124\u001b[0m             \u001b[0;32mif\u001b[0m \u001b[0mengine\u001b[0m \u001b[0;34m==\u001b[0m \u001b[0;34m'python'\u001b[0m\u001b[0;34m:\u001b[0m\u001b[0;34m\u001b[0m\u001b[0;34m\u001b[0m\u001b[0m\n",
      "\u001b[0;32m/disk1/data1/ret/venv/lib/python3.6/site-packages/pandas/io/parsers.py\u001b[0m in \u001b[0;36m__init__\u001b[0;34m(self, src, **kwds)\u001b[0m\n\u001b[1;32m   1851\u001b[0m         \u001b[0mkwds\u001b[0m\u001b[0;34m[\u001b[0m\u001b[0;34m'usecols'\u001b[0m\u001b[0;34m]\u001b[0m \u001b[0;34m=\u001b[0m \u001b[0mself\u001b[0m\u001b[0;34m.\u001b[0m\u001b[0musecols\u001b[0m\u001b[0;34m\u001b[0m\u001b[0;34m\u001b[0m\u001b[0m\n\u001b[1;32m   1852\u001b[0m \u001b[0;34m\u001b[0m\u001b[0m\n\u001b[0;32m-> 1853\u001b[0;31m         \u001b[0mself\u001b[0m\u001b[0;34m.\u001b[0m\u001b[0m_reader\u001b[0m \u001b[0;34m=\u001b[0m \u001b[0mparsers\u001b[0m\u001b[0;34m.\u001b[0m\u001b[0mTextReader\u001b[0m\u001b[0;34m(\u001b[0m\u001b[0msrc\u001b[0m\u001b[0;34m,\u001b[0m \u001b[0;34m**\u001b[0m\u001b[0mkwds\u001b[0m\u001b[0;34m)\u001b[0m\u001b[0;34m\u001b[0m\u001b[0;34m\u001b[0m\u001b[0m\n\u001b[0m\u001b[1;32m   1854\u001b[0m         \u001b[0mself\u001b[0m\u001b[0;34m.\u001b[0m\u001b[0munnamed_cols\u001b[0m \u001b[0;34m=\u001b[0m \u001b[0mself\u001b[0m\u001b[0;34m.\u001b[0m\u001b[0m_reader\u001b[0m\u001b[0;34m.\u001b[0m\u001b[0munnamed_cols\u001b[0m\u001b[0;34m\u001b[0m\u001b[0;34m\u001b[0m\u001b[0m\n\u001b[1;32m   1855\u001b[0m \u001b[0;34m\u001b[0m\u001b[0m\n",
      "\u001b[0;32mpandas/_libs/parsers.pyx\u001b[0m in \u001b[0;36mpandas._libs.parsers.TextReader.__cinit__\u001b[0;34m()\u001b[0m\n",
      "\u001b[0;32mpandas/_libs/parsers.pyx\u001b[0m in \u001b[0;36mpandas._libs.parsers.TextReader._setup_parser_source\u001b[0;34m()\u001b[0m\n",
      "\u001b[0;31mFileNotFoundError\u001b[0m: [Errno 2] File b'/disk1/data1/data/models/inception/incep_v3_he_da_wce10.cpkt-79000_df.csv' does not exist: b'/disk1/data1/data/models/inception/incep_v3_he_da_wce10.cpkt-79000_df.csv'"
     ]
    }
   ],
   "source": [
    "#load data\n",
    "pred_df = read_pred_file(pred_df_fl)"
   ]
  },
  {
   "cell_type": "code",
   "execution_count": 171,
   "metadata": {
    "scrolled": true
   },
   "outputs": [
    {
     "name": "stdout",
     "output_type": "stream",
     "text": [
      "Data columns:  Index(['label', 'prob', 'pred'], dtype='object')\n",
      "   label      prob  pred\n",
      "0    0.0  0.468994   0.0\n",
      "1    0.0  0.427706   0.0\n",
      "2    0.0  0.384649   0.0\n",
      "3    0.0  0.435321   0.0\n",
      "4    0.0  0.400247   0.0\n"
     ]
    }
   ],
   "source": [
    "#check data\n",
    "print(\"Data columns: \",pred_df.columns)\n",
    "print(pred_df.head())"
   ]
  },
  {
   "cell_type": "code",
   "execution_count": 172,
   "metadata": {},
   "outputs": [
    {
     "name": "stdout",
     "output_type": "stream",
     "text": [
      "AUC - [0.500472]\n"
     ]
    }
   ],
   "source": [
    "#calculate ROC specific details and plot the grpah\n",
    "fpr, tpr, _ = metrics.roc_curve(pred_df.label,  pred_df.prob)\n",
    "auc = metrics.roc_auc_score(pred_df.label,  pred_df.prob)\n",
    "print(\"AUC - [%f]\" % (auc))"
   ]
  },
  {
   "cell_type": "code",
   "execution_count": 173,
   "metadata": {},
   "outputs": [
    {
     "data": {
      "image/png": "[encoded data removed]",
      "text/plain": [
       "<Figure size 432x288 with 1 Axes>"
      ]
     },
     "metadata": {},
     "output_type": "display_data"
    }
   ],
   "source": [
    "plt.plot(fpr,tpr,label=\"data 1, auc=\"+str(auc))\n",
    "plt.legend(loc=4)\n",
    "plt.show()"
   ]
  },
  {
   "cell_type": "code",
   "execution_count": 174,
   "metadata": {},
   "outputs": [],
   "source": [
    "#Prepare predcition for confusion matrix. create prediction using optimal threshold, in our case threshold is .5\n",
    "threshold = auc\n",
    "#threshold = 0.1\n",
    "pred_df['pred'] = pred_df.prob.apply(lambda x: 0. if x < threshold else 1.)"
   ]
  },
  {
   "cell_type": "code",
   "execution_count": 175,
   "metadata": {},
   "outputs": [],
   "source": [
    "#print confusion matrix.\n",
    "total = pred_df.label.count()\n",
    "\n",
    "tot_1s = pred_df[(pred_df.label == 1.)]['label'].count()\n",
    "tot_0s = pred_df[(pred_df.label == 0.)]['label'].count()\n",
    "tp = pred_df[(pred_df.label == pred_df.pred) & (pred_df.label == 1.)]['label'].count()\n",
    "tn = pred_df[(pred_df.label == pred_df.pred) & (pred_df.label == 0.)]['label'].count()\n",
    "fp = pred_df[(pred_df.label == 0.) & (pred_df.pred == 1.)]['label'].count()\n",
    "fn = pred_df[(pred_df.label == 1.) & (pred_df.pred == 0.)]['label'].count()\n",
    "#print(\" tp 1's : \",/tot_1s)\n",
    "#print(\" tp 0's : \",pred_df[(pred_df.label == pred_df.pred) & (pred_df.label == 0.)]['label'].count()/tot_0s)"
   ]
  },
  {
   "cell_type": "code",
   "execution_count": 176,
   "metadata": {},
   "outputs": [
    {
     "name": "stdout",
     "output_type": "stream",
     "text": [
      " tp:  6678  fp:  57322\n",
      " fn:  10762611  tn:  94030989\n",
      " Total labels 1's:  10769289  Total labels 0's:  94088311\n",
      " % labels 1's:  0.10270394325256348  % labels 0's:  0.8972960567474365\n",
      " Precision:  0.10434375\n",
      " Recall:  0.0006200966470488442\n",
      " F1 score:  0.0012328665837309427\n"
     ]
    }
   ],
   "source": [
    "'''------not weigthed CE-------\n",
    " tp:  200  fp:  13432\n",
    " fn:  1080852  tn:  73354412\n",
    " Total labels 1's:  1081052  Total labels 0's:  73367844\n",
    " % labels 1's:  0.014520725733797315  % labels 0's:  0.9854792742662026\n",
    " Precision:  0.014671361502347418\n",
    " Recall:  0.00018500497663387146\n",
    " F1 score:  0.00036540225307029245\n",
    "  ----------w=10---------\n",
    " tp:  67  fp:  4477\n",
    " fn:  1080985  tn:  73363367\n",
    " Total labels 1's:  1081052  Total labels 0's:  73367844\n",
    " % labels 1's:  0.014520725733797315  % labels 0's:  0.9854792742662026\n",
    " Precision:  0.014744718309859154\n",
    " Recall:  6.197666717234694e-05\n",
    " F1 score:  0.00012343450049558032\n",
    " ----------w=25---------\n",
    "  tp:  9087  fp:  617985\n",
    " fn:  1071965  tn:  72749859\n",
    " Total labels 1's:  1081052  Total labels 0's:  73367844\n",
    " % labels 1's:  0.014520725733797315  % labels 0's:  0.9854792742662026\n",
    " Precision:  0.014491158909981629\n",
    " Recall:  0.00840570111335995\n",
    " F1 score:  0.01063974278213994\n",
    " ----------w=50---------\n",
    " tp:  26411  fp:  1791189\n",
    " fn:  1054641  tn:  71576655\n",
    " Total labels 1's:  1081052  Total labels 0's:  73367844\n",
    " % labels 1's:  0.014520725733797315  % labels 0's:  0.9854792742662026\n",
    " Precision:  0.014530699823943663\n",
    " Recall:  0.024430832189385895\n",
    " F1 score:  0.018222953290012046\n",
    " ----------w=75---------\n",
    "  tp:  55304  fp:  3748024\n",
    " fn:  1025748  tn:  69619820\n",
    " Total labels 1's:  1081052  Total labels 0's:  73367844\n",
    " % labels 1's:  0.014520725733797315  % labels 0's:  0.9854792742662026\n",
    " Precision:  0.014540949400104329\n",
    " Recall:  0.051157576138798136\n",
    " F1 score:  0.022645248731671164\n",
    "----------w=100---------\n",
    " tp:  98815  fp:  6703553\n",
    " fn:  982237  tn:  66664291\n",
    " Total labels 1's:  1081052  Total labels 0's:  73367844\n",
    " % labels 1's:  0.014520725733797315  % labels 0's:  0.9854792742662026\n",
    " Precision:  0.014526558986517637\n",
    " Recall:  0.09140633383038003\n",
    " F1 score:  0.02506906900812084\n",
    " ----------Xaviers initialization---------\n",
    " tp:  507  fp:  69893\n",
    " fn:  760209  tn:  104026991\n",
    " Total labels 1's:  760716  Total labels 0's:  104096884\n",
    " % labels 1's:  0.007254753112792969  % labels 0's:  0.992745246887207\n",
    " Precision:  0.007201704545454546\n",
    " Recall:  0.0006664773713185998\n",
    " F1 score:  0.0012200462991928925\n",
    "'''\n",
    "print(\" tp: \",tp,\" fp: \",fp)\n",
    "print(\" fn: \",fn,\" tn: \",tn)\n",
    "print(\" Total labels 1's: \",tot_1s,\" Total labels 0's: \",tot_0s)\n",
    "print(\" % labels 1's: \",tot_1s/total,\" % labels 0's: \",tot_0s/total)\n",
    "precision = tp/(tp+fp)\n",
    "recall = tp/(tp+fn)\n",
    "print(\" Precision: \",precision)\n",
    "print(\" Recall: \",recall)\n",
    "print(\" F1 score: \",2*precision*recall/(precision+recall))\n"
   ]
  },
  {
   "cell_type": "code",
   "execution_count": 117,
   "metadata": {},
   "outputs": [
    {
     "name": "stdout",
     "output_type": "stream",
     "text": [
      "   label      prob  pred\n",
      "0    0.0  0.000703   0.0\n",
      "1    0.0  0.000584   0.0\n",
      "2    0.0  0.000564   0.0\n",
      "3    0.0  0.000389   0.0\n",
      "4    0.0  0.000569   0.0\n",
      "[0. 1.]\n",
      "[0. 1.]\n"
     ]
    }
   ],
   "source": [
    "print(pred_df.head())\n",
    "print(pred_df.pred.unique())\n",
    "print(pred_df.label.unique())"
   ]
  },
  {
   "cell_type": "code",
   "execution_count": 177,
   "metadata": {},
   "outputs": [
    {
     "data": {
      "text/plain": [
       "count    57322.000000\n",
       "mean         0.503562\n",
       "std          0.002275\n",
       "min          0.501010\n",
       "25%          0.501491\n",
       "50%          0.503115\n",
       "75%          0.505257\n",
       "max          0.508242\n",
       "Name: prob, dtype: float64"
      ]
     },
     "execution_count": 177,
     "metadata": {},
     "output_type": "execute_result"
    }
   ],
   "source": [
    "fp_df = pred_df[(pred_df.label == 0.) & (pred_df.pred == 1.)]\n",
    "fp_df.prob.describe()"
   ]
  },
  {
   "cell_type": "code",
   "execution_count": 178,
   "metadata": {},
   "outputs": [
    {
     "data": {
      "text/plain": [
       "count    1.076261e+07\n",
       "mean     4.304396e-01\n",
       "std      2.085227e-02\n",
       "min      3.545884e-01\n",
       "25%      4.161924e-01\n",
       "50%      4.302675e-01\n",
       "75%      4.444484e-01\n",
       "max      5.003940e-01\n",
       "Name: prob, dtype: float64"
      ]
     },
     "execution_count": 178,
     "metadata": {},
     "output_type": "execute_result"
    }
   ],
   "source": [
    "fn_df = pred_df[(pred_df.label == 1.) & (pred_df.pred == 0.)]\n",
    "fn_df.prob.describe()"
   ]
  },
  {
   "cell_type": "code",
   "execution_count": 179,
   "metadata": {},
   "outputs": [
    {
     "data": {
      "text/plain": [
       "count    9.403099e+07\n",
       "mean     4.304024e-01\n",
       "std      2.085085e-02\n",
       "min      3.545884e-01\n",
       "25%      4.161541e-01\n",
       "50%      4.302505e-01\n",
       "75%      4.444186e-01\n",
       "max      5.003940e-01\n",
       "Name: prob, dtype: float64"
      ]
     },
     "execution_count": 179,
     "metadata": {},
     "output_type": "execute_result"
    }
   ],
   "source": [
    "tn_df = pred_df[(pred_df.label == pred_df.pred) & (pred_df.label == 0.)]\n",
    "tn_df.prob.describe()\n"
   ]
  },
  {
   "cell_type": "code",
   "execution_count": 180,
   "metadata": {},
   "outputs": [
    {
     "data": {
      "text/plain": [
       "count    6678.000000\n",
       "mean        0.503564\n",
       "std         0.002260\n",
       "min         0.501010\n",
       "25%         0.501491\n",
       "50%         0.503205\n",
       "75%         0.505257\n",
       "max         0.508242\n",
       "Name: prob, dtype: float64"
      ]
     },
     "execution_count": 180,
     "metadata": {},
     "output_type": "execute_result"
    }
   ],
   "source": [
    "tp_df = pred_df[(pred_df.label == pred_df.pred) & (pred_df.label == 1.)]\n",
    "tp_df.prob.describe()"
   ]
  },
  {
   "cell_type": "code",
   "execution_count": null,
   "metadata": {},
   "outputs": [],
   "source": [
    "print(tn_df.head())\n",
    "print(fn_df.head())\n",
    "print(tn_df.prob.describe())\n",
    "print(fn_df.prob.describe())"
   ]
  },
  {
   "cell_type": "code",
   "execution_count": null,
   "metadata": {},
   "outputs": [],
   "source": []
  }
 ],
 "metadata": {
  "kernelspec": {
   "display_name": "Python 3",
   "language": "python",
   "name": "python3"
  },
  "language_info": {
   "codemirror_mode": {
    "name": "ipython",
    "version": 3
   },
   "file_extension": ".py",
   "mimetype": "text/x-python",
   "name": "python",
   "nbconvert_exporter": "python",
   "pygments_lexer": "ipython3",
   "version": "3.6.8"
  }
 },
 "nbformat": 4,
 "nbformat_minor": 2
}
