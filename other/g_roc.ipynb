{
 "cells": [
  {
   "cell_type": "code",
   "execution_count": 132,
   "metadata": {},
   "outputs": [],
   "source": [
    "#import required libraries\n",
    "import sys\n",
    "import os\n",
    "\n",
    "from sklearn import metrics\n",
    "import matplotlib.pyplot as plt\n",
    "%matplotlib inline\n",
    "import numpy as np\n",
    "import pandas as pd"
   ]
  },
  {
   "cell_type": "code",
   "execution_count": 62,
   "metadata": {},
   "outputs": [],
   "source": [
    "#function to read prediction data file. Generally expeceted to have format of label,probability score\n",
    "def read_pred_file(fl_name):\n",
    "    df = pd.read_csv( fl_name)\n",
    "    col1 = df.columns[0]\n",
    "    print(\"[%d] records loaded from File[%s] \" % (df[col1].count(),fl_name))\n",
    "    \n",
    "    return df"
   ]
  },
  {
   "cell_type": "code",
   "execution_count": 170,
   "metadata": {},
   "outputs": [],
   "source": [
    "#set key variables.\n",
    "ddir = '/disk1/data1/data/models/inception/'\n",
    "#model_name = 'incep_v3_he_wce_w25.cpkt'\n",
    "model_name = 'incep_v3_he_da_wce10.cpkt'\n",
    "steps = '79000'\n",
    "pred_df_fl = ddir + model_name + '-' + steps + '_df.csv'\n",
    "\n"
   ]
  },
  {
   "cell_type": "code",
   "execution_count": 169,
   "metadata": {},
   "outputs": [
    {
     "name": "stdout",
     "output_type": "stream",
     "text": [
      "Executing command - [grep 'step ' /tmp/he_wce_da.out | cut -d ' ' -f4,5,10 | sed  's/ loss=//g' | sed 's/ accu\\[/,/g' | sed 's/\\]//g' > /tmp/modelrun_df.csv]\n"
     ]
    },
    {
     "data": {
      "image/png": "[encoded data removed]",
      "text/plain": [
       "<Figure size 432x288 with 1 Axes>"
      ]
     },
     "metadata": {},
     "output_type": "display_data"
    }
   ],
   "source": [
    "#scan model nohup output file for key data points.\n",
    "tmp = '/tmp/'\n",
    "model_log_fl = 'he_wce_da.out'\n",
    "modelrun_df_fl = 'modelrun_df.csv'\n",
    "\n",
    "def run_analysis():\n",
    "    cmd = \"grep 'step ' \" + tmp + model_log_fl \\\n",
    "                + \" | cut -d ' ' -f4,5,10 | sed  's/ loss=//g' | sed 's/ accu\\[/,/g' | sed 's/\\]//g' > \" \\\n",
    "                + tmp + modelrun_df_fl\n",
    "    print(\"Executing command - [{}]\".format(cmd))\n",
    "    os.system(cmd)\n",
    "    modelrun_df = pd.read_csv( tmp + modelrun_df_fl, names=['step','loss','accu'])\n",
    "    #print(df.head())\n",
    "    plt.style.use('seaborn-whitegrid')\n",
    "    #fig = plt.figure()\n",
    "    #ax = plt.axes()\n",
    "    #x = np.linspace(0, 1000, 100000)\n",
    "    min = modelrun_df['loss'].min()\n",
    "    max = modelrun_df['loss'].max()\n",
    "    plt.plot(modelrun_df['step'],modelrun_df['accu'],color='blue');\n",
    "    plt.plot(modelrun_df['step'],(modelrun_df['loss']-min)/max,color='green');\n",
    "    #print(ax.plot(modelrun_df['step'],modelrun_df['loss']))\n",
    "    \n",
    "    return modelrun_df\n",
    "    \n",
    "modelrun_df = run_analysis()\n"
   ]
  },
  {
   "cell_type": "code",
   "execution_count": 162,
   "metadata": {},
   "outputs": [
    {
     "name": "stdout",
     "output_type": "stream",
     "text": [
      "[104857600] records loaded from File[/disk1/data1/data/models/inception/incep_v3_he_da_wce.cpkt-77000_df.csv] \n"
     ]
    }
   ],
   "source": [
    "#load data\n",
    "pred_df = read_pred_file(pred_df_fl)"
   ]
  },
  {
   "cell_type": "code",
   "execution_count": 163,
   "metadata": {
    "scrolled": true
   },
   "outputs": [
    {
     "name": "stdout",
     "output_type": "stream",
     "text": [
      "Data columns:  Index(['label', 'prob'], dtype='object')\n",
      "   label      prob\n",
      "0    0.0  0.468994\n",
      "1    0.0  0.427706\n",
      "2    0.0  0.384649\n",
      "3    0.0  0.435321\n",
      "4    0.0  0.400247\n"
     ]
    }
   ],
   "source": [
    "#check data\n",
    "print(\"Data columns: \",pred_df.columns)\n",
    "print(pred_df.head())"
   ]
  },
  {
   "cell_type": "code",
   "execution_count": 164,
   "metadata": {},
   "outputs": [
    {
     "name": "stdout",
     "output_type": "stream",
     "text": [
      "AUC - [0.500472]\n"
     ]
    }
   ],
   "source": [
    "#calculate ROC specific details and plot the grpah\n",
    "fpr, tpr, _ = metrics.roc_curve(pred_df.label,  pred_df.prob)\n",
    "auc = metrics.roc_auc_score(pred_df.label,  pred_df.prob)\n",
    "print(\"AUC - [%f]\" % (auc))"
   ]
  },
  {
   "cell_type": "code",
   "execution_count": 165,
   "metadata": {},
   "outputs": [
    {
     "data": {
      "image/png": "[encoded data removed]",
      "text/plain": [
       "<Figure size 432x288 with 1 Axes>"
      ]
     },
     "metadata": {},
     "output_type": "display_data"
    }
   ],
   "source": [
    "plt.plot(fpr,tpr,label=\"data 1, auc=\"+str(auc))\n",
    "plt.legend(loc=4)\n",
    "plt.show()"
   ]
  },
  {
   "cell_type": "code",
   "execution_count": 166,
   "metadata": {},
   "outputs": [],
   "source": [
    "#Prepare predcition for confusion matrix. create prediction using optimal threshold, in our case threshold is .5\n",
    "threshold = auc\n",
    "#threshold = 0.1\n",
    "pred_df['pred'] = pred_df.prob.apply(lambda x: 0. if x < threshold else 1.)"
   ]
  },
  {
   "cell_type": "code",
   "execution_count": 167,
   "metadata": {},
   "outputs": [],
   "source": [
    "#print confusion matrix.\n",
    "total = pred_df.label.count()\n",
    "\n",
    "tot_1s = pred_df[(pred_df.label == 1.)]['label'].count()\n",
    "tot_0s = pred_df[(pred_df.label == 0.)]['label'].count()\n",
    "tp = pred_df[(pred_df.label == pred_df.pred) & (pred_df.label == 1.)]['label'].count()\n",
    "tn = pred_df[(pred_df.label == pred_df.pred) & (pred_df.label == 0.)]['label'].count()\n",
    "fp = pred_df[(pred_df.label == 0.) & (pred_df.pred == 1.)]['label'].count()\n",
    "fn = pred_df[(pred_df.label == 1.) & (pred_df.pred == 0.)]['label'].count()\n",
    "#print(\" tp 1's : \",/tot_1s)\n",
    "#print(\" tp 0's : \",pred_df[(pred_df.label == pred_df.pred) & (pred_df.label == 0.)]['label'].count()/tot_0s)"
   ]
  },
  {
   "cell_type": "code",
   "execution_count": 168,
   "metadata": {},
   "outputs": [
    {
     "name": "stdout",
     "output_type": "stream",
     "text": [
      " tp:  6678  fp:  57322\n",
      " fn:  10762611  tn:  94030989\n",
      " Total labels 1's:  10769289  Total labels 0's:  94088311\n",
      " % labels 1's:  0.10270394325256348  % labels 0's:  0.8972960567474365\n",
      " Precision:  0.10434375\n",
      " Recall:  0.0006200966470488442\n",
      " F1 score:  0.0012328665837309427\n"
     ]
    }
   ],
   "source": [
    "'''------not weigthed CE-------\n",
    " tp:  200  fp:  13432\n",
    " fn:  1080852  tn:  73354412\n",
    " Total labels 1's:  1081052  Total labels 0's:  73367844\n",
    " % labels 1's:  0.014520725733797315  % labels 0's:  0.9854792742662026\n",
    " Precision:  0.014671361502347418\n",
    " Recall:  0.00018500497663387146\n",
    " F1 score:  0.00036540225307029245\n",
    "  ----------w=10---------\n",
    " tp:  67  fp:  4477\n",
    " fn:  1080985  tn:  73363367\n",
    " Total labels 1's:  1081052  Total labels 0's:  73367844\n",
    " % labels 1's:  0.014520725733797315  % labels 0's:  0.9854792742662026\n",
    " Precision:  0.014744718309859154\n",
    " Recall:  6.197666717234694e-05\n",
    " F1 score:  0.00012343450049558032\n",
    " ----------w=25---------\n",
    "  tp:  9087  fp:  617985\n",
    " fn:  1071965  tn:  72749859\n",
    " Total labels 1's:  1081052  Total labels 0's:  73367844\n",
    " % labels 1's:  0.014520725733797315  % labels 0's:  0.9854792742662026\n",
    " Precision:  0.014491158909981629\n",
    " Recall:  0.00840570111335995\n",
    " F1 score:  0.01063974278213994\n",
    " ----------w=50---------\n",
    " tp:  26411  fp:  1791189\n",
    " fn:  1054641  tn:  71576655\n",
    " Total labels 1's:  1081052  Total labels 0's:  73367844\n",
    " % labels 1's:  0.014520725733797315  % labels 0's:  0.9854792742662026\n",
    " Precision:  0.014530699823943663\n",
    " Recall:  0.024430832189385895\n",
    " F1 score:  0.018222953290012046\n",
    " ----------w=75---------\n",
    "  tp:  55304  fp:  3748024\n",
    " fn:  1025748  tn:  69619820\n",
    " Total labels 1's:  1081052  Total labels 0's:  73367844\n",
    " % labels 1's:  0.014520725733797315  % labels 0's:  0.9854792742662026\n",
    " Precision:  0.014540949400104329\n",
    " Recall:  0.051157576138798136\n",
    " F1 score:  0.022645248731671164\n",
    "----------w=100---------\n",
    " tp:  98815  fp:  6703553\n",
    " fn:  982237  tn:  66664291\n",
    " Total labels 1's:  1081052  Total labels 0's:  73367844\n",
    " % labels 1's:  0.014520725733797315  % labels 0's:  0.9854792742662026\n",
    " Precision:  0.014526558986517637\n",
    " Recall:  0.09140633383038003\n",
    " F1 score:  0.02506906900812084\n",
    " ----------Xaviers initialization---------\n",
    " tp:  507  fp:  69893\n",
    " fn:  760209  tn:  104026991\n",
    " Total labels 1's:  760716  Total labels 0's:  104096884\n",
    " % labels 1's:  0.007254753112792969  % labels 0's:  0.992745246887207\n",
    " Precision:  0.007201704545454546\n",
    " Recall:  0.0006664773713185998\n",
    " F1 score:  0.0012200462991928925\n",
    "'''\n",
    "print(\" tp: \",tp,\" fp: \",fp)\n",
    "print(\" fn: \",fn,\" tn: \",tn)\n",
    "print(\" Total labels 1's: \",tot_1s,\" Total labels 0's: \",tot_0s)\n",
    "print(\" % labels 1's: \",tot_1s/total,\" % labels 0's: \",tot_0s/total)\n",
    "precision = tp/(tp+fp)\n",
    "recall = tp/(tp+fn)\n",
    "print(\" Precision: \",precision)\n",
    "print(\" Recall: \",recall)\n",
    "print(\" F1 score: \",2*precision*recall/(precision+recall))\n"
   ]
  },
  {
   "cell_type": "code",
   "execution_count": 117,
   "metadata": {},
   "outputs": [
    {
     "name": "stdout",
     "output_type": "stream",
     "text": [
      "   label      prob  pred\n",
      "0    0.0  0.000703   0.0\n",
      "1    0.0  0.000584   0.0\n",
      "2    0.0  0.000564   0.0\n",
      "3    0.0  0.000389   0.0\n",
      "4    0.0  0.000569   0.0\n",
      "[0. 1.]\n",
      "[0. 1.]\n"
     ]
    }
   ],
   "source": [
    "print(pred_df.head())\n",
    "print(pred_df.pred.unique())\n",
    "print(pred_df.label.unique())"
   ]
  },
  {
   "cell_type": "code",
   "execution_count": 118,
   "metadata": {},
   "outputs": [
    {
     "data": {
      "text/plain": [
       "count    6352.000000\n",
       "mean        0.999779\n",
       "std         0.000000\n",
       "min         0.999779\n",
       "25%         0.999779\n",
       "50%         0.999779\n",
       "75%         0.999779\n",
       "max         0.999779\n",
       "Name: prob, dtype: float64"
      ]
     },
     "execution_count": 118,
     "metadata": {},
     "output_type": "execute_result"
    }
   ],
   "source": [
    "fp_df = pred_df[(pred_df.label == 0.) & (pred_df.pred == 1.)]\n",
    "fp_df.prob.describe()"
   ]
  },
  {
   "cell_type": "code",
   "execution_count": 119,
   "metadata": {},
   "outputs": [
    {
     "data": {
      "text/plain": [
       "count    760668.000000\n",
       "mean          0.000454\n",
       "std           0.000128\n",
       "min           0.000053\n",
       "25%           0.000363\n",
       "50%           0.000446\n",
       "75%           0.000535\n",
       "max           0.001293\n",
       "Name: prob, dtype: float64"
      ]
     },
     "execution_count": 119,
     "metadata": {},
     "output_type": "execute_result"
    }
   ],
   "source": [
    "fn_df = pred_df[(pred_df.label == 1.) & (pred_df.pred == 0.)]\n",
    "fn_df.prob.describe()"
   ]
  },
  {
   "cell_type": "code",
   "execution_count": 120,
   "metadata": {},
   "outputs": [
    {
     "data": {
      "text/plain": [
       "count    1.040905e+08\n",
       "mean     4.544728e-04\n",
       "std      1.280784e-04\n",
       "min      5.301833e-05\n",
       "25%      3.632307e-04\n",
       "50%      4.463196e-04\n",
       "75%      5.352497e-04\n",
       "max      1.292825e-03\n",
       "Name: prob, dtype: float64"
      ]
     },
     "execution_count": 120,
     "metadata": {},
     "output_type": "execute_result"
    }
   ],
   "source": [
    "tn_df = pred_df[(pred_df.label == pred_df.pred) & (pred_df.label == 0.)]\n",
    "tn_df.prob.describe()\n"
   ]
  },
  {
   "cell_type": "code",
   "execution_count": 121,
   "metadata": {},
   "outputs": [
    {
     "data": {
      "text/plain": [
       "count    48.000000\n",
       "mean      0.999779\n",
       "std       0.000000\n",
       "min       0.999779\n",
       "25%       0.999779\n",
       "50%       0.999779\n",
       "75%       0.999779\n",
       "max       0.999779\n",
       "Name: prob, dtype: float64"
      ]
     },
     "execution_count": 121,
     "metadata": {},
     "output_type": "execute_result"
    }
   ],
   "source": [
    "tp_df = pred_df[(pred_df.label == pred_df.pred) & (pred_df.label == 1.)]\n",
    "tp_df.prob.describe()"
   ]
  },
  {
   "cell_type": "code",
   "execution_count": null,
   "metadata": {},
   "outputs": [],
   "source": [
    "print(tn_df.head())\n",
    "print(fn_df.head())\n",
    "print(tn_df.prob.describe())\n",
    "print(fn_df.prob.describe())"
   ]
  },
  {
   "cell_type": "code",
   "execution_count": null,
   "metadata": {},
   "outputs": [],
   "source": []
  }
 ],
 "metadata": {
  "kernelspec": {
   "display_name": "Python 3",
   "language": "python",
   "name": "python3"
  },
  "language_info": {
   "codemirror_mode": {
    "name": "ipython",
    "version": 3
   },
   "file_extension": ".py",
   "mimetype": "text/x-python",
   "name": "python",
   "nbconvert_exporter": "python",
   "pygments_lexer": "ipython3",
   "version": "3.6.8"
  }
 },
 "nbformat": 4,
 "nbformat_minor": 2
}
