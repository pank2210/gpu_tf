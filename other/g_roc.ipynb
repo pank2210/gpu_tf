{
 "cells": [
  {
   "cell_type": "code",
   "execution_count": 14,
   "metadata": {},
   "outputs": [],
   "source": [
    "#import required libraries\n",
    "from sklearn import metrics\n",
    "import matplotlib.pyplot as plt\n",
    "import pandas as pd"
   ]
  },
  {
   "cell_type": "code",
   "execution_count": 15,
   "metadata": {},
   "outputs": [],
   "source": [
    "#function to read prediction data file. Generally expeceted to have format of label,probability score\n",
    "def read_pred_file(fl_name):\n",
    "    df = pd.read_csv( fl_name)\n",
    "    col1 = df.columns[0]\n",
    "    print(\"[%d] records loaded from File[%s] \" % (df[col1].count(),fl_name))\n",
    "    \n",
    "    return df"
   ]
  },
  {
   "cell_type": "code",
   "execution_count": 16,
   "metadata": {},
   "outputs": [],
   "source": [
    "#set key variables.\n",
    "ddir = '/disk1/data1/data/models/inception/'\n",
    "model_name = 'incep_basic_lr01.cpkt'\n",
    "model_name = 'incep_wofc_lr01.cpkt'\n",
    "steps = '14999'\n",
    "pred_df_fl = ddir + model_name + '-' + steps + '_df.csv'\n"
   ]
  },
  {
   "cell_type": "code",
   "execution_count": 17,
   "metadata": {},
   "outputs": [
    {
     "name": "stdout",
     "output_type": "stream",
     "text": [
      "[37748736] records loaded from File[/disk1/data1/data/models/inception/incep_wofc_lr01.cpkt-14999_df.csv] \n"
     ]
    }
   ],
   "source": [
    "#load data\n",
    "pred_df = read_pred_file(pred_df_fl)"
   ]
  },
  {
   "cell_type": "code",
   "execution_count": 18,
   "metadata": {},
   "outputs": [
    {
     "name": "stdout",
     "output_type": "stream",
     "text": [
      "Data columns:  Index(['label', 'prob'], dtype='object')\n",
      "   label      prob\n",
      "0    0.0  0.018757\n",
      "1    0.0  0.015408\n",
      "2    0.0  0.014363\n",
      "3    0.0  0.014512\n",
      "4    0.0  0.022295\n"
     ]
    }
   ],
   "source": [
    "#check data\n",
    "print(\"Data columns: \",pred_df.columns)\n",
    "print(pred_df.head())"
   ]
  },
  {
   "cell_type": "code",
   "execution_count": 21,
   "metadata": {},
   "outputs": [],
   "source": [
    "#calculate ROC specific details and plot the grpah\n",
    "fpr, tpr, _ = metrics.roc_curve(pred_df.label,  pred_df.prob)\n",
    "auc = metrics.roc_auc_score(pred_df.label,  pred_df.prob)\n"
   ]
  },
  {
   "cell_type": "code",
   "execution_count": 22,
   "metadata": {},
   "outputs": [
    {
     "data": {
      "image/png": "[encoded data removed]",
      "text/plain": [
       "<Figure size 432x288 with 1 Axes>"
      ]
     },
     "metadata": {
      "needs_background": "light"
     },
     "output_type": "display_data"
    }
   ],
   "source": [
    "plt.plot(fpr,tpr,label=\"data 1, auc=\"+str(auc))\n",
    "plt.legend(loc=4)\n",
    "plt.show()"
   ]
  },
  {
   "cell_type": "code",
   "execution_count": 23,
   "metadata": {},
   "outputs": [],
   "source": [
    "#Prepare predcition for confusion matrix. create prediction using optimal threshold, in our case threshold is .5\n",
    "threshold = auc\n",
    "pred_df['pred'] = pred_df.prob.apply(lambda x: 0. if x < threshold else 1.)"
   ]
  },
  {
   "cell_type": "code",
   "execution_count": 24,
   "metadata": {},
   "outputs": [],
   "source": [
    "#print confusion matrix.\n",
    "total = pred_df.label.count()\n",
    "\n",
    "tot_1s = pred_df[(pred_df.label == 1.)]['label'].count()\n",
    "tot_0s = pred_df[(pred_df.label == 0.)]['label'].count()\n",
    "tp = pred_df[(pred_df.label == pred_df.pred) & (pred_df.label == 1.)]['label'].count()\n",
    "tn = pred_df[(pred_df.label == pred_df.pred) & (pred_df.label == 0.)]['label'].count()\n",
    "fp = pred_df[(pred_df.label == 0.) & (pred_df.pred == 1.)]['label'].count()\n",
    "fn = pred_df[(pred_df.label == 1.) & (pred_df.pred == 0.)]['label'].count()\n",
    "#print(\" tp 1's : \",/tot_1s)\n",
    "#print(\" tp 0's : \",pred_df[(pred_df.label == pred_df.pred) & (pred_df.label == 0.)]['label'].count()/tot_0s)"
   ]
  },
  {
   "cell_type": "code",
   "execution_count": 25,
   "metadata": {},
   "outputs": [
    {
     "name": "stdout",
     "output_type": "stream",
     "text": [
      " tp:  2294  fp:  297226\n",
      " fn:  280678  tn:  37168538\n",
      " Total labels 1's:  282972  Total labels 0's:  37465764\n",
      " % labels 1's:  0.007496198018391927  % labels 0's:  0.992503801981608\n",
      " Precision:  0.00765892094017094\n",
      " Recall:  0.008106809154262613\n",
      " F1 score:  0.007876503024934249\n"
     ]
    }
   ],
   "source": [
    "print(\" tp: \",tp,\" fp: \",fp)\n",
    "print(\" fn: \",fn,\" tn: \",tn)\n",
    "print(\" Total labels 1's: \",tot_1s,\" Total labels 0's: \",tot_0s)\n",
    "print(\" % labels 1's: \",tot_1s/total,\" % labels 0's: \",tot_0s/total)\n",
    "precision = tp/(tp+fp)\n",
    "recall = tp/(tp+fn)\n",
    "print(\" Precision: \",precision)\n",
    "print(\" Recall: \",recall)\n",
    "print(\" F1 score: \",2*precision*recall/(precision+recall))\n"
   ]
  },
  {
   "cell_type": "code",
   "execution_count": 26,
   "metadata": {},
   "outputs": [
    {
     "name": "stdout",
     "output_type": "stream",
     "text": [
      "   label      prob  pred\n",
      "0    0.0  0.018757   0.0\n",
      "1    0.0  0.015408   0.0\n",
      "2    0.0  0.014363   0.0\n",
      "3    0.0  0.014512   0.0\n",
      "4    0.0  0.022295   0.0\n",
      "[0. 1.]\n",
      "[0. 1.]\n"
     ]
    }
   ],
   "source": [
    "print(pred_df.head())\n",
    "print(pred_df.pred.unique())\n",
    "print(pred_df.label.unique())"
   ]
  },
  {
   "cell_type": "code",
   "execution_count": 27,
   "metadata": {},
   "outputs": [
    {
     "data": {
      "text/plain": [
       "count    297226.000000\n",
       "mean          0.958580\n",
       "std           0.071538\n",
       "min           0.577813\n",
       "25%           0.961154\n",
       "50%           0.984607\n",
       "75%           0.995155\n",
       "max           0.999997\n",
       "Name: prob, dtype: float64"
      ]
     },
     "execution_count": 27,
     "metadata": {},
     "output_type": "execute_result"
    }
   ],
   "source": [
    "fp_df = pred_df[(pred_df.label == 0.) & (pred_df.pred == 1.)]\n",
    "fp_df.prob.describe()"
   ]
  },
  {
   "cell_type": "code",
   "execution_count": 28,
   "metadata": {},
   "outputs": [
    {
     "data": {
      "text/plain": [
       "count    280678.000000\n",
       "mean          0.017146\n",
       "std           0.013945\n",
       "min           0.000011\n",
       "25%           0.011395\n",
       "50%           0.015940\n",
       "75%           0.021156\n",
       "max           0.518980\n",
       "Name: prob, dtype: float64"
      ]
     },
     "execution_count": 28,
     "metadata": {},
     "output_type": "execute_result"
    }
   ],
   "source": [
    "fn_df = pred_df[(pred_df.label == 1.) & (pred_df.pred == 0.)]\n",
    "fn_df.prob.describe()"
   ]
  },
  {
   "cell_type": "code",
   "execution_count": 29,
   "metadata": {},
   "outputs": [
    {
     "data": {
      "text/plain": [
       "count    297226.000000\n",
       "mean          0.958580\n",
       "std           0.071538\n",
       "min           0.577813\n",
       "25%           0.961154\n",
       "50%           0.984607\n",
       "75%           0.995155\n",
       "max           0.999997\n",
       "Name: prob, dtype: float64"
      ]
     },
     "execution_count": 29,
     "metadata": {},
     "output_type": "execute_result"
    }
   ],
   "source": [
    "fp_df.prob.describe()"
   ]
  },
  {
   "cell_type": "code",
   "execution_count": null,
   "metadata": {},
   "outputs": [],
   "source": []
  }
 ],
 "metadata": {
  "kernelspec": {
   "display_name": "Python 3",
   "language": "python",
   "name": "python3"
  },
  "language_info": {
   "codemirror_mode": {
    "name": "ipython",
    "version": 3
   },
   "file_extension": ".py",
   "mimetype": "text/x-python",
   "name": "python",
   "nbconvert_exporter": "python",
   "pygments_lexer": "ipython3",
   "version": "3.6.8"
  }
 },
 "nbformat": 4,
 "nbformat_minor": 2
}
